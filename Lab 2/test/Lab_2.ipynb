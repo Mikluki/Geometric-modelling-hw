{
 "cells": [
  {
   "cell_type": "code",
   "execution_count": 2,
   "metadata": {},
   "outputs": [
    {
     "name": "stdout",
     "output_type": "stream",
     "text": [
      "pygame 2.1.2 (SDL 2.0.20, Python 3.10.4)\n",
      "Hello from the pygame community. https://www.pygame.org/contribute.html\n"
     ]
    }
   ],
   "source": [
    "from re import X\n",
    "import pygame\n",
    "import numpy as np\n"
   ]
  },
  {
   "cell_type": "code",
   "execution_count": 3,
   "metadata": {},
   "outputs": [],
   "source": [
    "class Point():\n",
    "    def __init__(self, x, y):\n",
    "        self.vec = np.matrix([[x], [y]])\n",
    "\n",
    "    def vecprod(self, matrix):\n",
    "        A.vec = A.vec @ matrix\n",
    "        return self\n",
    "\n",
    "\n"
   ]
  },
  {
   "cell_type": "code",
   "execution_count": 13,
   "metadata": {},
   "outputs": [
    {
     "data": {
      "text/plain": [
       "matrix([[4],\n",
       "        [4],\n",
       "        [2]])"
      ]
     },
     "execution_count": 13,
     "metadata": {},
     "output_type": "execute_result"
    }
   ],
   "source": [
    "def translation_matrix(tx, ty):\n",
    "    translation_matrix = np.matrix([\n",
    "        [1, 0, tx],\n",
    "        [0, 1, ty],\n",
    "        [0, 0, 1]])\n",
    "    return translation_matrix\n",
    "\n",
    "vec = np.matrix([[2,2,2]]).reshape(3,1)\n",
    "translation_matrix(1,1)@vec\n"
   ]
  },
  {
   "cell_type": "markdown",
   "metadata": {},
   "source": [
    "### Wheel"
   ]
  },
  {
   "cell_type": "code",
   "execution_count": 5,
   "metadata": {},
   "outputs": [],
   "source": [
    "WHITE = (255, 255, 255)\n",
    "RED = (255, 0, 0)\n",
    "BLACK = (0, 0, 0)\n",
    "\n",
    "WIDTH, HEIGHT = 800, 600\n",
    "screen_center = [WIDTH/2, HEIGHT/2]  # x, y\n",
    "\n",
    "# pygame.display.set_caption(\"3D projection Lab#2\")\n",
    "# screen = pygame.display.set_mode((WIDTH, HEIGHT))\n"
   ]
  },
  {
   "cell_type": "code",
   "execution_count": 6,
   "metadata": {},
   "outputs": [],
   "source": [
    "class Point():\n",
    "    def __init__(self, x, y):\n",
    "        self.vec = np.matrix([[x], [y]])\n",
    "        self.x = self.vec[0, 0]\n",
    "        self.y = self.vec[1, 0]\n",
    "\n",
    "    def vecprod(self, matrix):\n",
    "        self.vec = matrix @ self.vec\n",
    "        self.x = self.vec[0, 0]\n",
    "        self.y = self.vec[1, 0]\n",
    "        return self\n"
   ]
  },
  {
   "cell_type": "code",
   "execution_count": 7,
   "metadata": {},
   "outputs": [
    {
     "name": "stdout",
     "output_type": "stream",
     "text": [
      "[[10]\n",
      " [20]] Before vecprod\n",
      "\n",
      "[[20]\n",
      " [40]] \n",
      "\n"
     ]
    },
    {
     "data": {
      "text/plain": [
       "20"
      ]
     },
     "execution_count": 7,
     "metadata": {},
     "output_type": "execute_result"
    }
   ],
   "source": [
    "Scale = np.matrix([[2, 0],\n",
    "                   [0, 2]])\n",
    "\n",
    "\n",
    "A = Point(10, 20)\n",
    "print(A.vec, 'Before vecprod\\n')\n",
    "A.vecprod(Scale)\n",
    "print(A.vec, '\\n')\n",
    "A.x\n",
    "# print()\n"
   ]
  },
  {
   "cell_type": "code",
   "execution_count": 8,
   "metadata": {},
   "outputs": [],
   "source": [
    "\n",
    "\n",
    "\n",
    "class Wheel:\n",
    "    def __init__(self, radius, x=screen_center[0], y=screen_center[1], color='black'):\n",
    "        \n",
    "        self.radius = radius\n",
    "        self.diag_coef = radius/np.sqrt(2)\n",
    "        self.color = color\n",
    "\n",
    "        self.center = Point(x, y)\n",
    "\n",
    "    def drawline(self, point1, point2):\n",
    "        # tuple1 = (point1.vec[0, 0], point1.vec[0, 1])\n",
    "        # tuple2 = (point2.vec[0, 0], point2.vec[0, 1])\n",
    "        pygame.draw.line(screen, BLACK, point1.vec[0, 0],\\\n",
    "             point1.vec[1, 0], point2.vec[0, 0], point2.vec[1, 0])\n",
    "\n",
    "    def draw(self):\n",
    "        pass\n",
    "    \n",
    "        "
   ]
  },
  {
   "cell_type": "code",
   "execution_count": 9,
   "metadata": {},
   "outputs": [
    {
     "data": {
      "text/plain": [
       "20"
      ]
     },
     "execution_count": 9,
     "metadata": {},
     "output_type": "execute_result"
    }
   ],
   "source": [
    "wheel = Wheel(5, 10,20)\n",
    "wheel.center.vec[1,0]"
   ]
  },
  {
   "cell_type": "code",
   "execution_count": 10,
   "metadata": {},
   "outputs": [],
   "source": [
    "projection_matrix = np.matrix([\n",
    "    [1, 0, 0],\n",
    "    [0, 1, 0]\n",
    "])\n",
    "\n",
    "\n",
    "x = screen_center[0]\n",
    "y = screen_center[1]\n",
    "\n",
    "# pygame.draw.circle(screen, BLACK, (x,y), 5)"
   ]
  },
  {
   "cell_type": "code",
   "execution_count": 11,
   "metadata": {},
   "outputs": [],
   "source": [
    "# clock = pygame.time.Clock()\n",
    "# while True:\n",
    "\n",
    "#     clock.tick(60)\n",
    "\n",
    "#     for event in pygame.event.get():\n",
    "#         if event.type == pygame.QUIT:\n",
    "#             pygame.quit()\n",
    "#             exit()\n",
    "#         if event.type == pygame.KEYDOWN:\n",
    "#             if event.key == pygame.K_ESCAPE:\n",
    "#                 pygame.quit()\n",
    "#                 exit()\n",
    "\n",
    "#     # update stuff\n",
    "#     screen.fill(WHITE)\n",
    "\n",
    "#     # drawining stuff\n",
    "\n",
    "#     pygame.display.update()\n"
   ]
  },
  {
   "cell_type": "code",
   "execution_count": null,
   "metadata": {},
   "outputs": [],
   "source": []
  }
 ],
 "metadata": {
  "interpreter": {
   "hash": "916dbcbb3f70747c44a77c7bcd40155683ae19c65e1c03b4aa3499c5328201f1"
  },
  "kernelspec": {
   "display_name": "Python 3.10.4 64-bit",
   "language": "python",
   "name": "python3"
  },
  "language_info": {
   "codemirror_mode": {
    "name": "ipython",
    "version": 3
   },
   "file_extension": ".py",
   "mimetype": "text/x-python",
   "name": "python",
   "nbconvert_exporter": "python",
   "pygments_lexer": "ipython3",
   "version": "3.10.4"
  },
  "orig_nbformat": 4
 },
 "nbformat": 4,
 "nbformat_minor": 2
}

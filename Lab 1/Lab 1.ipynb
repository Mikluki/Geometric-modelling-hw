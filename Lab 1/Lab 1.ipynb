{
 "cells": [
  {
   "cell_type": "code",
   "execution_count": 540,
   "metadata": {},
   "outputs": [],
   "source": [
    "from PIL import Image\n",
    "import numpy as np"
   ]
  },
  {
   "cell_type": "code",
   "execution_count": 541,
   "metadata": {},
   "outputs": [],
   "source": [
    "# create Canvas\n",
    "im = Image.new('RGB', (100, 100), color=(255, 255, 255))\n",
    "\n",
    "\n",
    "def draw(x, y, color=(0,0,0)):\n",
    "    im.putpixel((x, y), color)\n",
    "    im.save('simplePixel.png')\n",
    "\n",
    "\n",
    "c = (138, 43, 226)\n"
   ]
  },
  {
   "cell_type": "markdown",
   "metadata": {},
   "source": [
    "Draw line"
   ]
  },
  {
   "cell_type": "code",
   "execution_count": 542,
   "metadata": {},
   "outputs": [],
   "source": [
    "def draw_line_X(ax, ay, bx, by, color=(138, 43, 226)):\n",
    "    print('DeltaX longer\\n')\n",
    "\n",
    "    ax0,ay0 = ax,ay\n",
    "    bx0,by0 = bx,by\n",
    "    Dx = bx - ax\n",
    "    Dy = by - ay\n",
    "\n",
    "    L = np.abs(Dx)\n",
    "        \n",
    "    der = Dy/Dx\n",
    "    if der < 0:\n",
    "        der = - der\n",
    "    d_param = der - 0.5\n",
    "    # print('der=',der)\n",
    "    # print('DIFF',Dx, Dy)\n",
    "\n",
    "    if Dx >= 0:\n",
    "        x_step = 1\n",
    "    else:\n",
    "        x_step = -1\n",
    "\n",
    "    if Dy >= 0 :\n",
    "        y_step = 1\n",
    "    else:\n",
    "        y_step = -1\n",
    "\n",
    "    for i in range(int(L)):\n",
    "        Dx = bx - ax\n",
    "        Dy = by - ay\n",
    "        \n",
    "        d_param = d_param + der        #########\n",
    "        # print('d_param=', d_param)\n",
    "\n",
    "        if np.abs(d_param) <= 0.5:\n",
    "            draw(ax, ay, color)\n",
    "\n",
    "        else: \n",
    "            ay = ay + y_step\n",
    "            draw(ax, ay, color)\n",
    "            d_param = d_param - 1       ######\n",
    "        \n",
    "        # print(ax,ay)\n",
    "        ax = ax + x_step\n",
    "    draw(ax0, ay0, (30, 144, 255))\n",
    "    draw(bx0, by0, (255, 0, 0))\n"
   ]
  },
  {
   "cell_type": "code",
   "execution_count": 543,
   "metadata": {},
   "outputs": [],
   "source": [
    "def draw_line_Y(ax, ay, bx, by, color=(138, 43, 226)):\n",
    "    print('DeltaY longer\\n')\n",
    "    ax0, ay0 = ax, ay\n",
    "    bx0, by0 = bx, by\n",
    "    Dx = bx - ax\n",
    "    Dy = by - ay\n",
    "\n",
    "    L = np.abs(Dy)\n",
    "\n",
    "    der = Dx/Dy                 ########\n",
    "    if der < 0:\n",
    "        der = - der\n",
    "    d_param = der - 0.5           #Once\n",
    "    # print('d_param=', d_param)\n",
    "    # print('der=',der)\n",
    "\n",
    "    if Dx >= 0:\n",
    "        x_step = 1\n",
    "    else:\n",
    "        x_step = -1\n",
    "\n",
    "    if Dy >= 0:\n",
    "        y_step = 1\n",
    "    else:\n",
    "        y_step = -1\n",
    "\n",
    "    for i in range(int(L)):\n",
    "        Dx = bx - ax\n",
    "        Dy = by - ay\n",
    "\n",
    "        d_param = d_param + der     ########\n",
    "        # print('d_param=', d_param)\n",
    "\n",
    "        if np.abs(d_param) <= 0.5:\n",
    "            draw(ax, ay, color)\n",
    "\n",
    "        else:\n",
    "            ax = ax + x_step\n",
    "            draw(ax, ay, color)\n",
    "            d_param = d_param - 1    #######\n",
    "\n",
    "        # print(ax, ay)\n",
    "        ay = ay + y_step\n",
    "    draw(ax0, ay0, (30, 144, 255))\n",
    "    draw(bx0, by0, (255, 0, 0))\n"
   ]
  },
  {
   "cell_type": "code",
   "execution_count": 544,
   "metadata": {},
   "outputs": [],
   "source": [
    "def draw_line(ax, ay, bx, by, color=(138, 43, 226)):\n",
    "    Dx = np.abs(bx - ax)\n",
    "    Dy = np.abs(by - ay)\n",
    "    # print(Dx,Dy)\n",
    "    if Dx == 0:\n",
    "        draw_line_Y(ax, ay, bx, by, color)\n",
    "    elif Dy > Dx:\n",
    "        draw_line_Y(ax, ay, bx, by, color)\n",
    "    else:\n",
    "        draw_line_X(ax, ay, bx, by, color)"
   ]
  },
  {
   "cell_type": "code",
   "execution_count": 545,
   "metadata": {},
   "outputs": [
    {
     "name": "stdout",
     "output_type": "stream",
     "text": [
      "DeltaY longer\n",
      "\n",
      "DeltaY longer\n",
      "\n",
      "DeltaY longer\n",
      "\n",
      "DeltaX longer\n",
      "\n",
      "DeltaX longer\n",
      "\n",
      "DeltaX longer\n",
      "\n",
      "DeltaX longer\n",
      "\n",
      "DeltaX longer\n",
      "\n",
      "DeltaX longer\n",
      "\n"
     ]
    }
   ],
   "source": [
    "ax, ay, bx, by = 50, 70, 50, 50\n",
    "# center\n",
    "draw_line(ax,ay,bx,by, 0)\n",
    "tx = 20\n",
    "ty = -13\n",
    "# vertical\n",
    "draw_line(ax+tx, ay+ty, bx+tx, by+ty, 0)\n",
    "draw_line(ax-tx, ay+ty, bx-tx, by+ty, 0)\n",
    "\n",
    "# upper diag\n",
    "draw_line(ax, ay, ax+tx, ay+ty, 0) \n",
    "draw_line(ax, ay, ax-tx, ay+ty, 0)\n",
    "\n",
    "# lower diag\n",
    "draw_line(bx, by, bx+tx, by+ty, 0)\n",
    "draw_line(bx, by, bx-tx, by+ty, 0)\n",
    "\n",
    "# peak\n",
    "draw_line(bx+tx, by+ty, bx, by-25, 0)\n",
    "draw_line(bx-tx, by+ty, bx, by-25, 0)\n"
   ]
  },
  {
   "cell_type": "code",
   "execution_count": null,
   "metadata": {},
   "outputs": [],
   "source": []
  }
 ],
 "metadata": {
  "interpreter": {
   "hash": "916dbcbb3f70747c44a77c7bcd40155683ae19c65e1c03b4aa3499c5328201f1"
  },
  "kernelspec": {
   "display_name": "Python 3.9.7 64-bit",
   "language": "python",
   "name": "python3"
  },
  "language_info": {
   "codemirror_mode": {
    "name": "ipython",
    "version": 3
   },
   "file_extension": ".py",
   "mimetype": "text/x-python",
   "name": "python",
   "nbconvert_exporter": "python",
   "pygments_lexer": "ipython3",
   "version": "3.9.7"
  },
  "orig_nbformat": 4
 },
 "nbformat": 4,
 "nbformat_minor": 2
}

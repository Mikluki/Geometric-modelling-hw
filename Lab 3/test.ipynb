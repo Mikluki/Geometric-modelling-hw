{
 "cells": [
  {
   "cell_type": "code",
   "execution_count": 25,
   "metadata": {},
   "outputs": [],
   "source": [
    "import pandas as pd\n",
    "import numpy as np\n",
    "import matplotlib.pyplot as plt\n"
   ]
  },
  {
   "cell_type": "code",
   "execution_count": 26,
   "metadata": {},
   "outputs": [
    {
     "name": "stdout",
     "output_type": "stream",
     "text": [
      "0.7853981633974483 = unitangle \n",
      "\n"
     ]
    }
   ],
   "source": [
    "center = (10,10)\n",
    "cx, cy = center\n",
    "N = 8\n",
    "R = 50\n",
    "unit_angle = 2*np.pi/N\n",
    "print(unit_angle, '= unitangle \\n')\n",
    "pointsx = []\n",
    "pointsy = []\n",
    "\n",
    "angle = 0\n",
    "points = []\n",
    "\n",
    "for i in range(N):\n",
    "    dx = R*np.cos(angle)\n",
    "    dy = R*np.sin(angle)\n",
    "    point = (dx, dy)\n",
    "    points.append(point)\n",
    "    pointsx.append(dx)\n",
    "    pointsy.append(dy)\n",
    "\n",
    "    angle = angle + unit_angle\n",
    "    # print(angle)\n",
    "\n",
    "\n"
   ]
  },
  {
   "cell_type": "code",
   "execution_count": 27,
   "metadata": {},
   "outputs": [
    {
     "data": {
      "text/plain": [
       "[<matplotlib.lines.Line2D at 0x7f1a2041e260>]"
      ]
     },
     "execution_count": 27,
     "metadata": {},
     "output_type": "execute_result"
    },
    {
     "data": {
      "image/png": "[encoded data removed]",
      "text/plain": [
       "<Figure size 576x576 with 1 Axes>"
      ]
     },
     "metadata": {
      "needs_background": "light"
     },
     "output_type": "display_data"
    }
   ],
   "source": [
    "plt.rcParams.update(\n",
    "    {'font.size': 14, 'lines.markersize': 15, 'lines.linewidth': 0, 'axes.grid': True, 'lines.marker': '.',\n",
    "     })\n",
    "fig, ax = plt.subplots(figsize=(8, 8))\n",
    "\n",
    "ax.plot(pointsx, pointsy)\n",
    "\n",
    "# ax.legend()"
   ]
  },
  {
   "cell_type": "code",
   "execution_count": null,
   "metadata": {},
   "outputs": [],
   "source": []
  },
  {
   "cell_type": "code",
   "execution_count": 28,
   "metadata": {},
   "outputs": [
    {
     "data": {
      "text/plain": [
       "2"
      ]
     },
     "execution_count": 28,
     "metadata": {},
     "output_type": "execute_result"
    }
   ],
   "source": [
    "projection_matrix = np.matrix([\n",
    "    [1, 0, 0, 0],\n",
    "    [0, 1, 0, 0]\n",
    "])\n",
    "\n",
    "v = np.matrix([[1, 0, 0, 0]]).reshape(4,1)\n",
    "\n",
    "projection_matrix@v\n",
    "len(projection_matrix)\n"
   ]
  },
  {
   "cell_type": "code",
   "execution_count": null,
   "metadata": {},
   "outputs": [],
   "source": []
  },
  {
   "cell_type": "code",
   "execution_count": 29,
   "metadata": {},
   "outputs": [],
   "source": [
    "WHITE = (255, 255, 255)\n",
    "RED = (255, 0, 0)\n",
    "BLACK = (0, 0, 0)\n",
    "\n",
    "scale = 100\n",
    "WIDTH, HEIGHT = 1000, 800\n",
    "screen_center = [WIDTH/2, HEIGHT/2]  # x, y\n"
   ]
  },
  {
   "cell_type": "code",
   "execution_count": 30,
   "metadata": {},
   "outputs": [],
   "source": [
    "class Point():\n",
    "    def __init__(self, x, y, z):\n",
    "        self.vec = np.matrix([[x], [y], [z], [1]])\n",
    "        self.x = self.vec[0, 0]\n",
    "        self.y = self.vec[1, 0]\n",
    "        self.z = self.vec[2, 0]\n",
    "\n",
    "    # def __add__(self, other_point):\n",
    "\n",
    "    def vecprod(self, matrix):\n",
    "        self.vec = matrix @ self.vec\n",
    "        self.x = self.vec[0, 0]\n",
    "        self.y = self.vec[1, 0]\n",
    "        self.z = self.vec[2, 0]\n",
    "\n",
    "        return self\n",
    "\n",
    "\n",
    "class Wheel:\n",
    "    def __init__(self, radius, height=0, x=0, y=0, z=0, color='black'):\n",
    "\n",
    "        self.radius = radius\n",
    "        self.height = height\n",
    "\n",
    "        self.diag_coef = radius/np.sqrt(2)\n",
    "        self.color = color\n",
    "\n",
    "        self.center = Point(x, y, z)\n",
    "        self.top = Point(x, y, height)\n",
    "\n",
    "        self.cirle_points = []\n",
    "        self.cirle_points.append(\n",
    "            Point(self.center.x, self.center.y + self.radius, self.center.z))\n",
    "        self.cirle_points.append(Point(self.center.x + self.diag_coef, self.center.y + self.diag_coef,\n",
    "                                       self.center.z))\n",
    "        self.cirle_points.append(\n",
    "            Point(self.center.x + self.radius, self.center.y, self.center.z))\n",
    "        self.cirle_points.append(Point(self.center.x + self.diag_coef, self.center.y - self.diag_coef,\n",
    "                                       self.center.z))\n",
    "        self.cirle_points.append(\n",
    "            Point(self.center.x, self.center.y - self.radius, self.center.z))\n",
    "        self.cirle_points.append(Point(self.center.x - self.diag_coef, self.center.y - self.diag_coef,\n",
    "                                       self.center.z))\n",
    "        self.cirle_points.append(\n",
    "            Point(self.center.x - self.radius, self.center.y, self.center.z))\n",
    "        self.cirle_points.append(Point(self.center.x - self.diag_coef, self.center.y + self.diag_coef,\n",
    "                                       self.center.z))\n",
    "\n",
    "        self.points = list(self.cirle_points)\n",
    "        self.points.append(self.center)\n",
    "        self.points.append(self.top)\n",
    "\n",
    "    def translate_2_origin(self,):\n",
    "        for i in range(len(self.points)):\n",
    "            self.points[i].vecprod(\n",
    "                get_matrix_Tr(-self.center.x, -self.center.y, -self.center.z))\n",
    "        return self\n",
    "\n",
    "    def translate(self, tx, ty, tz):\n",
    "        for i in range(len(self.points)):\n",
    "            self.points[i].vecprod(get_matrix_Tr(tx, ty, tz))\n",
    "        return self\n",
    "\n",
    "# ====================== Rotation ======================\n",
    "    def rotate_x(self, angle):\n",
    "        cx, cy, cz = self.center.x, self.center.y, self.center.z\n",
    "        self.translate_2_origin()\n",
    "        for i in range(len(self.points)):\n",
    "            self.points[i].vecprod(get_matrix_Rx(angle))\n",
    "        self.translate(cx, cy, cz)\n",
    "        return self\n",
    "\n",
    "    def rotate_y(self, angle):\n",
    "        cx, cy, cz = self.center.x, self.center.y, self.center.z\n",
    "        self.translate_2_origin()\n",
    "        for i in range(len(self.points)):\n",
    "            self.points[i].vecprod(get_matrix_Ry(angle))\n",
    "        self.translate(cx, cy, cz)\n",
    "        return self\n",
    "\n",
    "    def rotate_z(self, angle):\n",
    "        cx, cy, cz = self.center.x, self.center.y, self.center.z\n",
    "        self.translate_2_origin()\n",
    "        for i in range(len(self.points)):\n",
    "            self.points[i].vecprod(get_matrix_Rz(angle))\n",
    "        self.translate(cx, cy, cz)\n",
    "        return self\n",
    "\n",
    "\n",
    "# ====================== Priject and draw ======================\n",
    "\n",
    "    def project_to_screen(self):\n",
    "        for i in range(len(self.points)):\n",
    "            # print(self.points[i].vec, 'mult to\\n', projection_matrix, '  n={}\\n\\n'.format(i))\n",
    "            projection2d = projection_matrix @ self.points[i].vec\n",
    "        return projection2d\n",
    "\n",
    "    def draw(self):\n",
    "        self.project_to_screen()\n",
    "        for i in range(len(self.cirle_points)):\n",
    "            drawline(self.points[i],\n",
    "                     (self.points[(i+1) % len(self.cirle_points)]))\n",
    "            drawline(self.points[i], (self.center))\n",
    "            drawline(self.points[i], (self.top))\n"
   ]
  },
  {
   "cell_type": "code",
   "execution_count": 34,
   "metadata": {},
   "outputs": [
    {
     "name": "stdout",
     "output_type": "stream",
     "text": [
      "[[500.]\n",
      " [400.]\n",
      " [  0.]\n",
      " [  1.]] \n",
      "\n",
      " [[500.]\n",
      " [400.]\n",
      " [  0.]\n",
      " [  1.]]\n"
     ]
    },
    {
     "data": {
      "text/plain": [
       "matrix([[ True],\n",
       "        [ True],\n",
       "        [ True],\n",
       "        [ True]])"
      ]
     },
     "execution_count": 34,
     "metadata": {},
     "output_type": "execute_result"
    }
   ],
   "source": [
    "w = Wheel(100, x=screen_center[0], y=screen_center[1])\n",
    "# [print(x.vec, '\\n') for x in w.points]\n",
    "# len(w.points)\n",
    "print(w.center.vec, '\\n\\n', w.top.vec)\n",
    "w.center.vec == w.top.vec\n"
   ]
  },
  {
   "cell_type": "code",
   "execution_count": null,
   "metadata": {},
   "outputs": [],
   "source": []
  }
 ],
 "metadata": {
  "interpreter": {
   "hash": "916dbcbb3f70747c44a77c7bcd40155683ae19c65e1c03b4aa3499c5328201f1"
  },
  "kernelspec": {
   "display_name": "Python 3.10.4 64-bit",
   "language": "python",
   "name": "python3"
  },
  "language_info": {
   "codemirror_mode": {
    "name": "ipython",
    "version": 3
   },
   "file_extension": ".py",
   "mimetype": "text/x-python",
   "name": "python",
   "nbconvert_exporter": "python",
   "pygments_lexer": "ipython3",
   "version": "3.10.4"
  },
  "orig_nbformat": 4
 },
 "nbformat": 4,
 "nbformat_minor": 2
}
